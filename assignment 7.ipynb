{
 "cells": [
  {
   "cell_type": "markdown",
   "id": "e6ae3bc1",
   "metadata": {},
   "source": [
    "# Model representation\n",
    "\n",
    "\n"
   ]
  },
  {
   "cell_type": "code",
   "execution_count": null,
   "id": "bb5c6fd6",
   "metadata": {},
   "outputs": [],
   "source": [
    "import numpy as np\n",
    "import matplotlib.pyplot as plt\n",
    "\n",
    "# Generate example data\n",
    "np.random.seed(0)\n",
    "X = 2 * np.random.rand(100, 1)\n",
    "y = 4 + 3 * X + np.random.randn(100, 1)\n",
    "\n",
    "# Visualize the data\n",
    "plt.scatter(X, y)\n",
    "plt.xlabel('X')\n",
    "plt.ylabel('y')\n",
    "plt.title('Data for Linear Regression')\n",
    "plt.show()\n",
    "\n",
    "# Define the linear regression model\n",
    "def linear_regression(X, theta):\n",
    "    return X.dot(theta)\n",
    "\n",
    "# Define the cost function (mean squared error)\n",
    "def cost_function(X, y, theta):\n",
    "    m = len(y)\n",
    "    error = linear_regression(X, theta) - y\n",
    "    return 1 / (2 * m) * np.sum(error**2)\n",
    "\n",
    "# Initialize parameters\n",
    "X_b = np.c_[np.ones((100, 1)), X]\n",
    "theta = np.random.rand(2, 1)\n",
    "\n",
    "# Calculate and display the initial cost\n",
    "initial_cost = cost_function(X_b, y, theta)\n",
    "print(f'Initial Cost: {initial_cost}')\n",
    "\n",
    "# Visualize the cost function\n",
    "theta0_vals = np.linspace(-1, 6, 100)\n",
    "theta1_vals = np.linspace(-1, 4, 100)\n",
    "J_vals = np.zeros((len(theta0_vals), len(theta1_vals))\n",
    "\n",
    "for i in range(len(theta0_vals)):\n",
    "    for j in range(len(theta1_vals)):\n",
    "        theta_test = np.array([theta0_vals[i], theta1_vals[j]]).reshape(-1, 1)\n",
    "        J_vals[i, j] = cost_function(X_b, y, theta_test)\n",
    "\n",
    "plt.contourf(theta0_vals, theta1_vals, J_vals, levels=20, cmap='viridis')\n",
    "plt.colorbar(label='Cost')\n",
    "plt.xlabel('Theta0')\n",
    "plt.ylabel('Theta1')\n",
    "plt.title('Cost Function')\n",
    "plt.show()\n"
   ]
  }
 ],
 "metadata": {
  "kernelspec": {
   "display_name": "Python 3 (ipykernel)",
   "language": "python",
   "name": "python3"
  },
  "language_info": {
   "codemirror_mode": {
    "name": "ipython",
    "version": 3
   },
   "file_extension": ".py",
   "mimetype": "text/x-python",
   "name": "python",
   "nbconvert_exporter": "python",
   "pygments_lexer": "ipython3",
   "version": "3.11.4"
  }
 },
 "nbformat": 4,
 "nbformat_minor": 5
}
